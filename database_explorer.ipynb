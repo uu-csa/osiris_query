{
 "cells": [
  {
   "cell_type": "markdown",
   "metadata": {},
   "source": [
    "# OSIRIS Tabellen\n",
    "Met deze notebook kun je zoeken in de OSIRIS tabellen en bijbehorende kolommen."
   ]
  },
  {
   "cell_type": "code",
   "execution_count": null,
   "metadata": {},
   "outputs": [],
   "source": [
    "import pandas as pd\n",
    "from query.results import QueryResult\n",
    "pd.set_option('display.max_rows', None)\n",
    "pd.set_option('display.width', -1)\n",
    "df = QueryResult.read_pickle('systeem/osiris_tables').frame"
   ]
  },
  {
   "cell_type": "markdown",
   "metadata": {},
   "source": [
    "---\n",
    "## Zoek in tabellen\n",
    "Definieer hieronder de zoekopdracht.  \n",
    "Bevestig met `ctrl-enter`."
   ]
  },
  {
   "cell_type": "code",
   "execution_count": null,
   "metadata": {},
   "outputs": [],
   "source": [
    "zoekopdracht = 'INSTELLING'\n",
    "###\n",
    "df.query(f\"table_name.str.contains('{zoekopdracht}')\", engine='python')"
   ]
  },
  {
   "cell_type": "markdown",
   "metadata": {},
   "source": [
    "---\n",
    "## Tabelkolommen\n",
    "Geef hieronder de naam op van de tabel waarvan je de kolommen wilt opvragen.  \n",
    "Bevestig met `ctrl-enter`."
   ]
  },
  {
   "cell_type": "code",
   "execution_count": null,
   "metadata": {},
   "outputs": [],
   "source": [
    "zoekopdracht = 'OST_INSTELLING'\n",
    "###\n",
    "columns = QueryResult.read_pickle(f\"systeem/columns_{zoekopdracht}\").frame"
   ]
  },
  {
   "cell_type": "markdown",
   "metadata": {},
   "source": [
    "### Alle kolommen\n",
    "Selecteer onderstaande cel en druk op `ctrl-enter` om een overzicht van alle aanwezige kolommen te tonen:"
   ]
  },
  {
   "cell_type": "code",
   "execution_count": null,
   "metadata": {},
   "outputs": [],
   "source": [
    "columns"
   ]
  },
  {
   "cell_type": "markdown",
   "metadata": {},
   "source": [
    "### Specifieke kolom\n",
    "Geef hieronder als zoekopdracht een deel van de naam van de kolom op waarnaar je op zoek bent.  \n",
    "Bevestig met `ctrl-enter`."
   ]
  },
  {
   "cell_type": "code",
   "execution_count": null,
   "metadata": {},
   "outputs": [],
   "source": [
    "zoekopdracht = 'BETAALWIJZE'\n",
    "###\n",
    "columns.query(f\"column_name.str.contains('{zoekopdracht}')\", engine='python')"
   ]
  }
 ],
 "metadata": {
  "kernelspec": {
   "display_name": "Python 3",
   "language": "python",
   "name": "python3"
  },
  "language_info": {
   "codemirror_mode": {
    "name": "ipython",
    "version": 3
   },
   "file_extension": ".py",
   "mimetype": "text/x-python",
   "name": "python",
   "nbconvert_exporter": "python",
   "pygments_lexer": "ipython3",
   "version": "3.7.3"
  }
 },
 "nbformat": 4,
 "nbformat_minor": 4
}
