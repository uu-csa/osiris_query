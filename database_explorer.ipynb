{
 "cells": [
  {
   "cell_type": "markdown",
   "metadata": {},
   "source": [
    "# OSIRIS Tabellen\n",
    "Met deze notebook kun je zoeken in de OSIRIS tabellen en bijbehorende kolommen."
   ]
  },
  {
   "cell_type": "code",
   "execution_count": null,
   "metadata": {},
   "outputs": [],
   "source": [
    "import pandas as pd\n",
    "from src.query import load_frame\n",
    "pd.set_option('display.max_rows', None)\n",
    "pd.set_option('display.width', -1)\n",
    "df = load_frame('systeem/alle_tabellen')"
   ]
  },
  {
   "cell_type": "markdown",
   "metadata": {},
   "source": [
    "---\n",
    "## Zoek in tabellen\n",
    "Geef hieronder een zoekopdracht op.  \n",
    "Bevestig met `ctrl-enter`."
   ]
  },
  {
   "cell_type": "code",
   "execution_count": null,
   "metadata": {},
   "outputs": [],
   "source": [
    "query = 'FIN'"
   ]
  },
  {
   "cell_type": "markdown",
   "metadata": {},
   "source": [
    "Selecteer onderstaande cel en druk op `ctrl-enter` om de zoekopdracht uit te voeren:"
   ]
  },
  {
   "cell_type": "code",
   "execution_count": null,
   "metadata": {},
   "outputs": [],
   "source": [
    "df.query(f\"table_name.str.contains('{query}')\", engine='python')"
   ]
  },
  {
   "cell_type": "markdown",
   "metadata": {},
   "source": [
    "---\n",
    "## Tabelkolommen\n",
    "Geef hieronder de naam op van de tabel waarvan je de kolommen wilt opvragen.  \n",
    "Bevestig met `ctrl-enter`."
   ]
  },
  {
   "cell_type": "code",
   "execution_count": null,
   "metadata": {},
   "outputs": [],
   "source": [
    "query = 'OST_STUDENT_FIN_REGEL'"
   ]
  },
  {
   "cell_type": "markdown",
   "metadata": {},
   "source": [
    "Selecteer onderstaande cel en druk op `ctrl-enter` om de zoekopdracht uit te voeren:"
   ]
  },
  {
   "cell_type": "code",
   "execution_count": null,
   "metadata": {},
   "outputs": [],
   "source": [
    "columns = load_frame(f\"systeem/tabel_kolommen_var_{query}\")"
   ]
  },
  {
   "cell_type": "markdown",
   "metadata": {},
   "source": [
    "### Specifieke kolom\n",
    "Geef hieronder een zoekopdracht op als je op zoek bent naar een specifieke kolom.  \n",
    "Bevestig met `ctrl-enter`."
   ]
  },
  {
   "cell_type": "code",
   "execution_count": null,
   "metadata": {},
   "outputs": [],
   "source": [
    "query = 'BETAALWIJZE'"
   ]
  },
  {
   "cell_type": "markdown",
   "metadata": {},
   "source": [
    "Selecteer onderstaande cel en druk op `ctrl-enter` om de zoekopdracht uit te voeren:"
   ]
  },
  {
   "cell_type": "code",
   "execution_count": null,
   "metadata": {},
   "outputs": [],
   "source": [
    "columns.query(f\"column_name.str.contains('{query}')\", engine='python')"
   ]
  },
  {
   "cell_type": "markdown",
   "metadata": {},
   "source": [
    "### Alle kolommen\n",
    "Selecteer onderstaande cel en druk op `ctrl-enter` om een overzicht van alle aanwezige kolommen te tonen:"
   ]
  },
  {
   "cell_type": "code",
   "execution_count": null,
   "metadata": {},
   "outputs": [],
   "source": [
    "columns"
   ]
  }
 ],
 "metadata": {
  "kernelspec": {
   "display_name": "Python 3",
   "language": "python",
   "name": "python3"
  },
  "language_info": {
   "codemirror_mode": {
    "name": "ipython",
    "version": 3
   },
   "file_extension": ".py",
   "mimetype": "text/x-python",
   "name": "python",
   "nbconvert_exporter": "python",
   "pygments_lexer": "ipython3",
   "version": "3.7.3"
  }
 },
 "nbformat": 4,
 "nbformat_minor": 4
}
